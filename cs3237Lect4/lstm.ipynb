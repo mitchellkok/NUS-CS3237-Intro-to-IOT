{
 "cells": [
  {
   "cell_type": "markdown",
   "metadata": {},
   "source": [
    "# Long-Short-Term Memory (LSTM)\n",
    "\n",
    "In this document we will create an LSTM to learn the growth in aircraft passenger traffice from 1949 to 1960, to make predictions for passenger growth in the following months.\n",
    "\n",
    "## Preparation\n",
    "\n",
    "The cs3237.requirements file does not include matplotlib (oops), you can install it manually by:\n",
    "\n",
    "    i. Switching to the directory that you use for this course.\n",
    "    ii. Activating the environment:\n",
    "    \n",
    "```\n",
    "source venv/bin/activate\n",
    "```\n",
    "    iii. Installing matplotlib\n",
    "\n",
    "```\n",
    "pip3 install matplotlib\n",
    "```\n",
    "        \n",
    "## Loading the Dataset\n",
    "\n",
    "The data is in airline-passengers.csv which is provided in this lecture. We will import it into a Pandas dataframe and look at it:\n"
   ]
  },
  {
   "cell_type": "code",
   "execution_count": 63,
   "metadata": {},
   "outputs": [
    {
     "name": "stdout",
     "output_type": "stream",
     "text": [
      "     Passengers\n",
      "0           112\n",
      "1           118\n",
      "2           132\n",
      "3           129\n",
      "4           121\n",
      "..          ...\n",
      "139         606\n",
      "140         508\n",
      "141         461\n",
      "142         390\n",
      "143         432\n",
      "\n",
      "[144 rows x 1 columns]\n"
     ]
    }
   ],
   "source": [
    "import pandas as pd\n",
    "\n",
    "# We don't need column 0 as it shows the month. Only interested in \n",
    "# column 1 which contains passenger numbers for the month/\n",
    "dataframe = pd.read_csv('airline-passengers.csv', usecols = [1], engine = 'python')\n",
    "print(dataframe)"
   ]
  },
  {
   "cell_type": "markdown",
   "metadata": {},
   "source": [
    "\n",
    "Let's use pyplot to plot the data:"
   ]
  },
  {
   "cell_type": "code",
   "execution_count": 65,
   "metadata": {},
   "outputs": [
    {
     "data": {
      "image/png": "[encoded data removed]",
      "text/plain": [
       "<Figure size 432x288 with 1 Axes>"
      ]
     },
     "metadata": {
      "needs_background": "light"
     },
     "output_type": "display_data"
    }
   ],
   "source": [
    "import matplotlib.pyplot as plt\n",
    "\n",
    "dataframe.plot(y = 'Passengers')\n",
    "plt.show()"
   ]
  },
  {
   "cell_type": "markdown",
   "metadata": {},
   "source": [
    "This shows a very typical time series that shows a trend (upward) as well as seasonal spikes (big bumps) and noise (little bumps). This should be great for our LSTM!\n",
    "\n",
    "We now scale the data to between 0 and 1:"
   ]
  },
  {
   "cell_type": "code",
   "execution_count": 67,
   "metadata": {},
   "outputs": [
    {
     "name": "stdout",
     "output_type": "stream",
     "text": [
      "[[0.01544401]\n",
      " [0.02702703]\n",
      " [0.05405405]\n",
      " [0.04826255]\n",
      " [0.03281853]\n",
      " [0.05984557]\n",
      " [0.08494207]\n",
      " [0.08494207]\n",
      " [0.06177607]\n",
      " [0.02895753]\n",
      " [0.        ]\n",
      " [0.02702703]\n",
      " [0.02123553]\n",
      " [0.04247104]\n",
      " [0.07142857]\n",
      " [0.05984557]\n",
      " [0.04054055]\n",
      " [0.08687258]\n",
      " [0.12741312]\n",
      " [0.12741312]\n",
      " [0.10424709]\n",
      " [0.05598456]\n",
      " [0.01930502]\n",
      " [0.06949806]\n",
      " [0.07915059]\n",
      " [0.08880308]\n",
      " [0.14285713]\n",
      " [0.11389962]\n",
      " [0.13127413]\n",
      " [0.14285713]\n",
      " [0.18339768]\n",
      " [0.18339768]\n",
      " [0.15444016]\n",
      " [0.11196911]\n",
      " [0.08108109]\n",
      " [0.1196911 ]\n",
      " [0.12934363]\n",
      " [0.14671814]\n",
      " [0.17181468]\n",
      " [0.14864865]\n",
      " [0.15250966]\n",
      " [0.22007722]\n",
      " [0.24324325]\n",
      " [0.26640925]\n",
      " [0.2027027 ]\n",
      " [0.16795367]\n",
      " [0.13127413]\n",
      " [0.17374519]\n",
      " [0.17760617]\n",
      " [0.17760617]\n",
      " [0.25482625]\n",
      " [0.25289574]\n",
      " [0.24131274]\n",
      " [0.26833975]\n",
      " [0.3088803 ]\n",
      " [0.32432434]\n",
      " [0.25675675]\n",
      " [0.20656371]\n",
      " [0.14671814]\n",
      " [0.18725869]\n",
      " [0.19305018]\n",
      " [0.16216215]\n",
      " [0.25289574]\n",
      " [0.23745173]\n",
      " [0.25096524]\n",
      " [0.3088803 ]\n",
      " [0.38223937]\n",
      " [0.36486486]\n",
      " [0.2992278 ]\n",
      " [0.24131274]\n",
      " [0.1911197 ]\n",
      " [0.24131274]\n",
      " [0.26640925]\n",
      " [0.24903473]\n",
      " [0.31467178]\n",
      " [0.3185328 ]\n",
      " [0.32046333]\n",
      " [0.4073359 ]\n",
      " [0.5019305 ]\n",
      " [0.46911195]\n",
      " [0.40154442]\n",
      " [0.32818535]\n",
      " [0.25675675]\n",
      " [0.3359073 ]\n",
      " [0.34749034]\n",
      " [0.33397684]\n",
      " [0.41119692]\n",
      " [0.4034749 ]\n",
      " [0.4131274 ]\n",
      " [0.52123547]\n",
      " [0.5965251 ]\n",
      " [0.58108103]\n",
      " [0.484556  ]\n",
      " [0.3899614 ]\n",
      " [0.3223938 ]\n",
      " [0.3899614 ]\n",
      " [0.4073359 ]\n",
      " [0.3803089 ]\n",
      " [0.48648646]\n",
      " [0.47104248]\n",
      " [0.484556  ]\n",
      " [0.6138996 ]\n",
      " [0.6969112 ]\n",
      " [0.70077217]\n",
      " [0.57915056]\n",
      " [0.46911195]\n",
      " [0.38803086]\n",
      " [0.44787642]\n",
      " [0.45559844]\n",
      " [0.4131274 ]\n",
      " [0.4980695 ]\n",
      " [0.47104248]\n",
      " [0.49999997]\n",
      " [0.6389961 ]\n",
      " [0.7471043 ]\n",
      " [0.7741313 ]\n",
      " [0.57915056]\n",
      " [0.492278  ]\n",
      " [0.3976834 ]\n",
      " [0.44980696]\n",
      " [0.49420848]\n",
      " [0.45945945]\n",
      " [0.5830116 ]\n",
      " [0.5637065 ]\n",
      " [0.61003864]\n",
      " [0.71042466]\n",
      " [0.8571429 ]\n",
      " [0.8783784 ]\n",
      " [0.69305015]\n",
      " [0.5849421 ]\n",
      " [0.4980695 ]\n",
      " [0.58108103]\n",
      " [0.6042471 ]\n",
      " [0.554054  ]\n",
      " [0.60810804]\n",
      " [0.6891892 ]\n",
      " [0.71042466]\n",
      " [0.8320464 ]\n",
      " [1.        ]\n",
      " [0.96911204]\n",
      " [0.7799227 ]\n",
      " [0.6891892 ]\n",
      " [0.55212355]\n",
      " [0.6332046 ]]\n"
     ]
    }
   ],
   "source": [
    "from sklearn.preprocessing import MinMaxScaler\n",
    "\n",
    "dataset = dataframe.values\n",
    "\n",
    "# Change to float32 and scale to 0 to 1\n",
    "# scaled_value = (value - min) / (max - min)\n",
    "dataset = dataset.astype('float32')\n",
    "scaler = MinMaxScaler(feature_range = (0, 1))\n",
    "dataset = scaler.fit_transform(dataset)\n",
    "\n",
    "print(dataset)"
   ]
  },
  {
   "cell_type": "markdown",
   "metadata": {},
   "source": [
    "Let's now import all the libraries that we need."
   ]
  },
  {
   "cell_type": "code",
   "execution_count": 69,
   "metadata": {},
   "outputs": [],
   "source": [
    "import numpy\n",
    "import math\n",
    "\n",
    "# Bring in the Sequential model\n",
    "from keras.models import Sequential\n",
    "\n",
    "# Now bring in our main star: the LSTM network, and the\n",
    "# Dense layer to incorporate the results of the LSTM nodes\n",
    "\n",
    "from keras.layers import LSTM\n",
    "from keras.layers import Dense\n",
    "from sklearn.preprocessing import MinMaxScaler\n",
    "from sklearn.metrics import mean_squared_error"
   ]
  },
  {
   "cell_type": "markdown",
   "metadata": {},
   "source": [
    "## Data and Training Configuration\n",
    "\n",
    "We now create some hyperparameter constants. Explanations are in the comments.\n"
   ]
  },
  {
   "cell_type": "code",
   "execution_count": 70,
   "metadata": {},
   "outputs": [],
   "source": [
    "\"\"\"\n",
    "Adjust these to control # of epochs, etc.\n",
    "\"\"\"\n",
    "batch_size = 1\n",
    "look_back = 5\n",
    "skip = 1\n",
    "hidden_size = 128\n",
    "num_epochs = 10\n",
    "TRAIN_PERCENT = 0.67\n",
    "\n",
    "# Set the random number seed so that we have reproducible results\n",
    "numpy.random.seed(7)"
   ]
  },
  {
   "cell_type": "markdown",
   "metadata": {},
   "source": [
    "## Generating Data\n",
    "\n",
    "Now we will create a data generator to produce the test data. This generator takes the sample data we got out of our Pandas dataframe and scaled, and produces a window of data together with the target output. \n",
    "\n",
    "The \"look_back\" parameter controls the size of the input window. For example, suppose we have a time series of 1, 7, 3, 5, 2, 15, 12, 6, 3. Then with a look_back of 1, we have:\n",
    "\n",
    "| X   | Y |  \n",
    "|:---:|:---:|\n",
    "|1    |7    |\n",
    "|7    |3    |\n",
    "|3    |5    |\n",
    "|5    |2    |\n",
    "|2    |15   |\n",
    "|15   |12   |\n",
    "|12   |6    |\n",
    "|6    |3    |\n",
    "\n",
    "With a look_back of 3, we have:\n",
    "\n",
    "| X     | Y   |  \n",
    "|:-----:|:---:|\n",
    "|1,7,3  |5    |\n",
    "|7,3,5  |2    |\n",
    "|3,5,2  |15   |\n",
    "|5,2,15 |12   |\n",
    "|2,15,12|6    |\n",
    "|15,12,6|3    |\n",
    "\n",
    "Here is the code for the data generator, together with code to set up the training and testing data:"
   ]
  },
  {
   "cell_type": "code",
   "execution_count": 77,
   "metadata": {},
   "outputs": [],
   "source": [
    "# Figure out how many vectors for training and how many for\n",
    "# testing.\n",
    "\n",
    "train_size = int(len(dataset) * TRAIN_PERCENT)\n",
    "test_size = len(dataset) - train_size\n",
    "\n",
    "# Slice the dataset accordingly\n",
    "train, test  = dataset[:train_size], dataset[train_size:]\n",
    "\n",
    "# Generate the datasets with the given look_back.\n",
    "def create_dataset(dataset, look_back=look_back):\n",
    "    dataX, dataY=[], []\n",
    "\n",
    "    for i in range(len(dataset) - look_back - 1):\n",
    "        a=dataset[i:(i+look_back), 0]\n",
    "        dataX.append(a)\n",
    "        dataY.append(dataset[i + look_back, 0])\n",
    "    return numpy.array(dataX), numpy.array(dataY)\n",
    "\n",
    "# Call create_dataset to make the training and testing sets.\n",
    "trainX, trainY = create_dataset(train, look_back)\n",
    "testX, testY = create_dataset(test, look_back)\n",
    "\n",
    "# shape[0] gives # of rows, shape[1] gives number of columns.\n",
    "# So here we have shape[0] rows each of 1 input of shape[1] columns.\n",
    "# Number of columns is our lookback.\n",
    "\n",
    "trainX = numpy.reshape(trainX, (trainX.shape[0], 1, trainX.shape[1]))\n",
    "testX = numpy.reshape(testX, (testX.shape[0], 1, testX.shape[1]))"
   ]
  },
  {
   "cell_type": "markdown",
   "metadata": {},
   "source": [
    "## Creating the LSTM\n",
    "\n",
    "Now that we have our data generator, let's actually create the LSTM. For simplicity we will use the Keras Sequential model. The data we created is presented as a row vector of \"look_back\" columns, so our LSTM should be configured to accept this.\n"
   ]
  },
  {
   "cell_type": "code",
   "execution_count": 78,
   "metadata": {},
   "outputs": [
    {
     "name": "stdout",
     "output_type": "stream",
     "text": [
      "_________________________________________________________________\n",
      "Layer (type)                 Output Shape              Param #   \n",
      "=================================================================\n",
      "lstm_11 (LSTM)               (None, 128)               68608     \n",
      "_________________________________________________________________\n",
      "dense_10 (Dense)             (None, 1)                 129       \n",
      "=================================================================\n",
      "Total params: 68,737\n",
      "Trainable params: 68,737\n",
      "Non-trainable params: 0\n",
      "_________________________________________________________________\n",
      "Epoch 1/10\n",
      " - 1s - loss: 0.0174\n",
      "Epoch 2/10\n",
      " - 0s - loss: 0.0059\n",
      "Epoch 3/10\n",
      " - 0s - loss: 0.0061\n",
      "Epoch 4/10\n",
      " - 0s - loss: 0.0046\n",
      "Epoch 5/10\n",
      " - 0s - loss: 0.0041\n",
      "Epoch 6/10\n",
      " - 0s - loss: 0.0043\n",
      "Epoch 7/10\n",
      " - 0s - loss: 0.0036\n",
      "Epoch 8/10\n",
      " - 0s - loss: 0.0037\n",
      "Epoch 9/10\n",
      " - 0s - loss: 0.0033\n",
      "Epoch 10/10\n",
      " - 0s - loss: 0.0030\n"
     ]
    },
    {
     "data": {
      "text/plain": [
       "<keras.callbacks.History at 0x7f7870d3ca20>"
      ]
     },
     "execution_count": 78,
     "metadata": {},
     "output_type": "execute_result"
    }
   ],
   "source": [
    "# Create our LSTM\n",
    "\n",
    "model = Sequential()\n",
    "model.add(LSTM(hidden_size, input_shape=(1, look_back)))\n",
    "model.add(Dense(1))\n",
    "model.compile(loss='mean_squared_error', optimizer='adam')\n",
    "\n",
    "# Print a summary of our network\n",
    "model.summary()\n",
    "\n",
    "#Start training\n",
    "model.fit(trainX, trainY, epochs=num_epochs, batch_size=batch_size, verbose=2)"
   ]
  },
  {
   "cell_type": "markdown",
   "metadata": {},
   "source": [
    "## Testing our Model\n",
    "\n",
    "We can now call \"predict\" on our test and train data and print out the first 10 training and testing predictions:"
   ]
  },
  {
   "cell_type": "code",
   "execution_count": 79,
   "metadata": {},
   "outputs": [
    {
     "name": "stdout",
     "output_type": "stream",
     "text": [
      "\n",
      "Training prediction:\n",
      " [[0.07320315]\n",
      " [0.08518299]\n",
      " [0.10536457]\n",
      " [0.11192939]\n",
      " [0.10028175]\n",
      " [0.0821353 ]\n",
      " [0.06184946]\n",
      " [0.06723906]\n",
      " [0.06393261]\n",
      " [0.07213514]]\n",
      "\n",
      "Testing prediction:\n",
      " [[0.49459022]\n",
      " [0.5669906 ]\n",
      " [0.65845567]\n",
      " [0.6879924 ]\n",
      " [0.6261296 ]\n",
      " [0.55376244]\n",
      " [0.4841931 ]\n",
      " [0.49287376]\n",
      " [0.48679215]\n",
      " [0.4552256 ]]\n"
     ]
    }
   ],
   "source": [
    "trainPredict=model.predict(trainX)\n",
    "testPredict = model.predict(testX)\n",
    "\n",
    "print(\"\\nTraining prediction:\\n\", trainPredict[:10])\n",
    "print(\"\\nTesting prediction:\\n\", testPredict[:10])"
   ]
  },
  {
   "cell_type": "markdown",
   "metadata": {},
   "source": [
    "As we can see we we get back a 2D array, consisting of many rows of a single column. We also see that the values are scaled between 0 and 1, and we need to rescale them back to the original. Let's do this now:\n",
    "\n"
   ]
  },
  {
   "cell_type": "code",
   "execution_count": 80,
   "metadata": {},
   "outputs": [
    {
     "name": "stdout",
     "output_type": "stream",
     "text": [
      "Training Actual:\n",
      " [135.00000368 147.99999397 147.99999397 136.00000531 119.00000078\n",
      " 103.99999952 117.99999916 115.00000199 125.99999674 140.99999801]\n",
      "Training Predictions:\n",
      " [[141.91924]\n",
      " [148.12479]\n",
      " [158.57884]\n",
      " [161.97942]\n",
      " [155.94594]\n",
      " [146.54608]\n",
      " [136.03801]\n",
      " [138.82983]\n",
      " [137.11708]\n",
      " [141.36601]]\n",
      "Testing Actual:\n",
      " [421.9999924  465.0000161  466.99998848 403.99999397 346.99999379\n",
      " 304.99998716 335.99999132 339.99999783 317.99999288 362.00000277]\n",
      "Testing Predictions:\n",
      " [[360.19775]\n",
      " [397.70114]\n",
      " [445.08005]\n",
      " [460.3801 ]\n",
      " [428.33514]\n",
      " [390.84894]\n",
      " [354.812  ]\n",
      " [359.30862]\n",
      " [356.15836]\n",
      " [339.80685]]\n"
     ]
    }
   ],
   "source": [
    "trainPredict = scaler.inverse_transform(trainPredict)\n",
    "trainY = scaler.inverse_transform([trainY])\n",
    "testPredict = scaler.inverse_transform(testPredict)\n",
    "testY = scaler.inverse_transform([testY])\n",
    "\n",
    "print(\"Training Actual:\\n\", trainY[0,:10])\n",
    "print(\"Training Predictions:\\n\", trainPredict[:10])\n",
    "print(\"Testing Actual:\\n\", testY[0,:10])\n",
    "print(\"Testing Predictions:\\n\", testPredict[:10])\n"
   ]
  },
  {
   "cell_type": "markdown",
   "metadata": {},
   "source": [
    "We can see that the actual training and testing labels is a 2D array consisting of a single row with every label, while the predictions are a 2D array of many rows, where each row has one column, which is our prediction. We will call math.sqrt and numpy.mean_squared_error to find the RMSE, taking into account the differences in format:"
   ]
  },
  {
   "cell_type": "code",
   "execution_count": 81,
   "metadata": {},
   "outputs": [
    {
     "name": "stdout",
     "output_type": "stream",
     "text": [
      "Train Score: 29.35 RMSE\n",
      "Test Score: 60.96 RMSE\n"
     ]
    }
   ],
   "source": [
    "# Actual: A single row of many labels. Prediction: Many rows with a single value\n",
    "\n",
    "trainScore = math.sqrt(mean_squared_error(trainY[0], trainPredict[:,0]))\n",
    "print('Train Score: %.2f RMSE' % (trainScore))\n",
    "\n",
    "testScore = math.sqrt(mean_squared_error(testY[0], testPredict[:, 0]))\n",
    "print('Test Score: %.2f RMSE' % (testScore))"
   ]
  },
  {
   "attachments": {
    "image.png": {
     "image/png": "[encoded data removed]"
    }
   },
   "cell_type": "markdown",
   "metadata": {},
   "source": [
    "## Changing the Input Format\n",
    "\n",
    "Let's now change our LSTM's input format. Right now we have a single row of look_back inputs. To enable batching, we will now reconfigure our data so that we present \"look_back\" rows of one piece of data - our passenger numbers. This is how LSTM expects our inputs to be when we are batching them. The figure below shows this idea.\n",
    "\n",
    "![image.png](attachment:image.png)\n",
    "\n",
    "We also set a look_back of 5."
   ]
  },
  {
   "cell_type": "code",
   "execution_count": 90,
   "metadata": {},
   "outputs": [],
   "source": [
    "look_back = 5\n",
    "\n",
    "trainX, trainY = create_dataset(train, look_back)\n",
    "testX, testY = create_dataset(test, look_back)\n",
    "\n",
    "# Compare below with our original:\n",
    "# trainX = numpy.reshape(trainX, (trainX.shape[0], 1, trainX.shape[1]))\n",
    "trainX = numpy.reshape(trainX, (trainX.shape[0], trainX.shape[1], 1))\n",
    "testX = numpy.reshape(testX, (testX.shape[0], testX.shape[1], 1))\n"
   ]
  },
  {
   "cell_type": "markdown",
   "metadata": {},
   "source": [
    "## Creating our LSTM with Memory\n",
    "\n",
    "The reason we want to batch our data is that it allows us to create an LSTM with memory - the LSTM is now able to learn across batches, not just across time steps within an input. We do this by setting the \"stateful\" parameter to True. Notice now that we present our data not as a single row of look_back values, but a batch of look_back rows, each with one piece of data. "
   ]
  },
  {
   "cell_type": "code",
   "execution_count": 91,
   "metadata": {},
   "outputs": [
    {
     "name": "stdout",
     "output_type": "stream",
     "text": [
      "_________________________________________________________________\n",
      "Layer (type)                 Output Shape              Param #   \n",
      "=================================================================\n",
      "lstm_15 (LSTM)               (1, 128)                  66560     \n",
      "_________________________________________________________________\n",
      "dense_14 (Dense)             (1, 1)                    129       \n",
      "=================================================================\n",
      "Total params: 66,689\n",
      "Trainable params: 66,689\n",
      "Non-trainable params: 0\n",
      "_________________________________________________________________\n"
     ]
    }
   ],
   "source": [
    "model1 = Sequential()\n",
    "model1.add(LSTM(128, batch_input_shape=(batch_size, look_back, 1), \n",
    "stateful = True))\n",
    "model1.add(Dense(1))\n",
    "model1.compile(loss='mean_squared_error', optimizer='adam')\n",
    "model1.summary()\n"
   ]
  },
  {
   "cell_type": "markdown",
   "metadata": {},
   "source": [
    "Wonderful, let's start training. We now have a complication in that model states have to be reset between batches. So now rather than training automatically for a number of epochs, we train for one epoch, clear the state, then go to the next epoch."
   ]
  },
  {
   "cell_type": "code",
   "execution_count": 92,
   "metadata": {},
   "outputs": [
    {
     "name": "stdout",
     "output_type": "stream",
     "text": [
      "Iter: 0 of 10\n",
      "Epoch 1/1\n",
      " - 1s - loss: 0.0084\n",
      "Iter: 1 of 10\n",
      "Epoch 1/1\n",
      " - 0s - loss: 0.0065\n",
      "Iter: 2 of 10\n",
      "Epoch 1/1\n",
      " - 0s - loss: 0.0067\n",
      "Iter: 3 of 10\n",
      "Epoch 1/1\n",
      " - 0s - loss: 0.0066\n",
      "Iter: 4 of 10\n",
      "Epoch 1/1\n",
      " - 0s - loss: 0.0064\n",
      "Iter: 5 of 10\n",
      "Epoch 1/1\n",
      " - 0s - loss: 0.0062\n",
      "Iter: 6 of 10\n",
      "Epoch 1/1\n",
      " - 0s - loss: 0.0060\n",
      "Iter: 7 of 10\n",
      "Epoch 1/1\n",
      " - 0s - loss: 0.0056\n",
      "Iter: 8 of 10\n",
      "Epoch 1/1\n",
      " - 0s - loss: 0.0052\n",
      "Iter: 9 of 10\n",
      "Epoch 1/1\n",
      " - 0s - loss: 0.0050\n"
     ]
    }
   ],
   "source": [
    "for i in range(num_epochs):\n",
    "    print(\"Iter: %d of %d\" % (i, num_epochs))\n",
    "    model1.fit(trainX, trainY, epochs=1, batch_size = batch_size, verbose = 2, shuffle = False)\n",
    "    model1.reset_states()"
   ]
  },
  {
   "cell_type": "markdown",
   "metadata": {},
   "source": [
    "As before we evaluate our accuracy:"
   ]
  },
  {
   "cell_type": "code",
   "execution_count": 93,
   "metadata": {},
   "outputs": [
    {
     "name": "stdout",
     "output_type": "stream",
     "text": [
      "Train Score: 56.93 RMSE\n",
      "Test Score: 60.03 RMSE\n"
     ]
    }
   ],
   "source": [
    "trainPredict=model1.predict(trainX, batch_size = batch_size)\n",
    "testPredict = model1.predict(testX, batch_size = batch_size)\n",
    "\n",
    "trainPredict = scaler.inverse_transform(trainPredict)\n",
    "trainY = scaler.inverse_transform([trainY])\n",
    "testPredict = scaler.inverse_transform(testPredict)\n",
    "testY = scaler.inverse_transform([testY])\n",
    "\n",
    "# Note we have already applied inverse transforms for trainY and testY.\n",
    "trainScore = math.sqrt(mean_squared_error(trainY[0], trainPredict[:,0]))\n",
    "print('Train Score: %.2f RMSE' % (trainScore))\n",
    "\n",
    "testScore = math.sqrt(mean_squared_error(testY[0], testPredict[:, 0]))\n",
    "print('Test Score: %.2f RMSE' % (testScore))"
   ]
  },
  {
   "cell_type": "markdown",
   "metadata": {},
   "source": [
    "## Stacking LSTMs\n",
    "\n",
    "We will now create a stack of LSTMs - One LSTM will feed to the next LSTM, and the next LSTM will learn over a window of outputs from the earlier LSTM.\n",
    "\n",
    "We will use the redefined data that we created in the previous section, and just recreate the model. \n",
    "\n",
    "Notice that in the first layer we set \"return_sequences\" to True.  This causes the first LSTM to return a sequence of look_back predictions, instead of the latest prediction, which is needed for the second layer."
   ]
  },
  {
   "cell_type": "code",
   "execution_count": 94,
   "metadata": {},
   "outputs": [],
   "source": [
    "model2 = Sequential()\n",
    "model2.add(LSTM(8, batch_input_shape=(batch_size, look_back, 1), \n",
    "stateful = True, return_sequences = True))\n",
    "model2.add(LSTM(8, batch_input_shape=(batch_size, look_back, 1), stateful = True))\n",
    "model2.add(Dense(1))\n",
    "model2.compile(loss='mean_squared_error', optimizer='adam')\n"
   ]
  },
  {
   "cell_type": "markdown",
   "metadata": {},
   "source": [
    "As before we train and print the RMSE:"
   ]
  },
  {
   "cell_type": "code",
   "execution_count": 95,
   "metadata": {},
   "outputs": [
    {
     "name": "stdout",
     "output_type": "stream",
     "text": [
      "Iter: 0 of 10\n",
      "Epoch 1/1\n",
      " - 2s - loss: 0.0051\n",
      "Iter: 1 of 10\n",
      "Epoch 1/1\n",
      " - 0s - loss: 0.0141\n",
      "Iter: 2 of 10\n",
      "Epoch 1/1\n",
      " - 0s - loss: 0.0106\n",
      "Iter: 3 of 10\n",
      "Epoch 1/1\n",
      " - 0s - loss: 0.0089\n",
      "Iter: 4 of 10\n",
      "Epoch 1/1\n",
      " - 0s - loss: 0.0078\n",
      "Iter: 5 of 10\n",
      "Epoch 1/1\n",
      " - 0s - loss: 0.0072\n",
      "Iter: 6 of 10\n",
      "Epoch 1/1\n",
      " - 0s - loss: 0.0069\n",
      "Iter: 7 of 10\n",
      "Epoch 1/1\n",
      " - 0s - loss: 0.0067\n",
      "Iter: 8 of 10\n",
      "Epoch 1/1\n",
      " - 0s - loss: 0.0065\n",
      "Iter: 9 of 10\n",
      "Epoch 1/1\n",
      " - 0s - loss: 0.0064\n"
     ]
    }
   ],
   "source": [
    "# We recreate all the data that was altered by inverse_transform\n",
    "# Of course we could have just used different variable names.. \n",
    "# But anyway..\n",
    "\n",
    "trainX, trainY = create_dataset(train, look_back)\n",
    "testX, testY = create_dataset(test, look_back)\n",
    "trainX = numpy.reshape(trainX, (trainX.shape[0], trainX.shape[1], 1))\n",
    "testX = numpy.reshape(testX, (testX.shape[0], testX.shape[1], 1))\n",
    "\n",
    "# Uncomment this and run again to see improvement to the RMSE\n",
    "# num_epochs = 8\n",
    "\n",
    "for i in range(num_epochs):\n",
    "    print(\"Iter: %d of %d\" % (i, num_epochs))\n",
    "    model2.fit(trainX, trainY, epochs=1, batch_size = batch_size, verbose = 2, shuffle = False)\n",
    "    model2.reset_states()\n",
    "\n"
   ]
  },
  {
   "cell_type": "code",
   "execution_count": 96,
   "metadata": {},
   "outputs": [
    {
     "name": "stdout",
     "output_type": "stream",
     "text": [
      "Train Score: 47.02 RMSE\n",
      "Test Score: 82.20 RMSE\n"
     ]
    }
   ],
   "source": [
    "# Compute the score\n",
    "\n",
    "trainPredict=model2.predict(trainX, batch_size = batch_size)\n",
    "testPredict = model2.predict(testX, batch_size = batch_size)\n",
    "\n",
    "trainPredict = scaler.inverse_transform(trainPredict)\n",
    "trainY = scaler.inverse_transform([trainY])\n",
    "testPredict = scaler.inverse_transform(testPredict)\n",
    "testY = scaler.inverse_transform([testY])\n",
    "\n",
    "trainScore = math.sqrt(mean_squared_error(trainY[0], trainPredict[:,0]))\n",
    "print('Train Score: %.2f RMSE' % (trainScore))\n",
    "\n",
    "testScore = math.sqrt(mean_squared_error(testY[0], testPredict[:, 0]))\n",
    "print('Test Score: %.2f RMSE' % (testScore))"
   ]
  },
  {
   "cell_type": "markdown",
   "metadata": {},
   "source": [
    "We can see the RMSE is terrible! Change the num_epochs above to 850 and you will see much better results. This is because the model is now much more complicated and needs more iterations to converge.\n"
   ]
  },
  {
   "cell_type": "code",
   "execution_count": null,
   "metadata": {},
   "outputs": [],
   "source": []
  }
 ],
 "metadata": {
  "kernelspec": {
   "display_name": "Python 3",
   "language": "python",
   "name": "python3"
  },
  "language_info": {
   "codemirror_mode": {
    "name": "ipython",
    "version": 3
   },
   "file_extension": ".py",
   "mimetype": "text/x-python",
   "name": "python",
   "nbconvert_exporter": "python",
   "pygments_lexer": "ipython3",
   "version": "3.6.8"
  }
 },
 "nbformat": 4,
 "nbformat_minor": 4
}
