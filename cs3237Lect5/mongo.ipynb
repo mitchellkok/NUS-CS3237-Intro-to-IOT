{
 "cells": [
  {
   "cell_type": "markdown",
   "metadata": {},
   "source": [
    "# Using MongoDB with Python\n",
    "\n",
    "We will look at how to store and retrieve collections of documents in Python using MongoDB. To begin:\n",
    "\n",
    "## 1. Installing MongoDB\n",
    "\n",
    "Begin first be installing MongoDB:\n",
    "\n",
    "### 1.1 Installing MongoDB on MacOS:\n",
    "\n",
    "You can find instructions for installing MongoDB on Mac [here](https://docs.mongodb.com/manual/tutorial/install-mongodb-on-os-x/)\n",
    "\n",
    "Essentially we do:\n",
    "\n",
    "```\n",
    "brew install mongodb\n",
    "```\n",
    "\n",
    "MongoDB should automatically start as a background process when it is installed.\n",
    "\n",
    "### 1.2 Installing MongoDB on LINUX:\n",
    "\n",
    "Instructions for Ubuntu are [here](https://docs.mongodb.com/manual/tutorial/install-mongodb-on-ubuntu/)\n",
    "\n",
    "Essentially:\n",
    "\n",
    "```\n",
    "sudo apt-get install mongodb\n",
    "```\n",
    "\n",
    "Unlike in MacOS however, MongoDB does not always start in the background once it is installed. To start it:\n",
    "\n",
    "```\n",
    "sudo service mongodb start\n",
    "```\n",
    "\n",
    "Otherwise:\n",
    "\n",
    "```\n",
    "mongod --dbpath=\\path\\to\\database\n",
    "```\n",
    "\n",
    "### 1.3 Installing MongoDB on Windows\n",
    "\n",
    "Windows is a whole weird beast with its own quirks, so we will not work directly with Windows. Instead you should follow the instructions [here](https://docs.microsoft.com/en-us/windows/wsl/install-win10) to install Windows Subsystem for Linux (WSL). We recommend installing Ubuntu since it is the simplest distribution to use.\n",
    "\n",
    "\n",
    "### 1.4 Installing PyMongo\n",
    "\n",
    "PyMongo is installed using pip3, so it is the same for all platforms\n",
    "\n",
    "```\n",
    "source venv\\bin\\activate\n",
    "pip3 install pymongo\n",
    "```\n",
    "\n",
    "## 2. Working with MongoDB in Python\n",
    "\n",
    "Now that all the installation is out of the way, let's see how to interface with MongoDB in Python.\n",
    "\n",
    "### 2.1 Importing MongoClient from pymongo and Connecting\n",
    "\n",
    "The main interface is MongoClient, which we import from pymongo. Once we have imported it we can call MongoClient to connect to MongoDB through the default port 27017:"
   ]
  },
  {
   "cell_type": "code",
   "execution_count": 8,
   "metadata": {},
   "outputs": [],
   "source": [
    "from pymongo import MongoClient\n",
    "from pymongo.errors import BulkWriteError\n",
    "# Connect to the Mongo server\n",
    "client = MongoClient('mongodb://localhost:27017/')\n",
    "\n"
   ]
  },
  {
   "cell_type": "markdown",
   "metadata": {},
   "source": [
    "### 2.2 Establishing a Connection to the Database\n",
    "\n",
    "Once we have connected to the MongoDB server, we can connect to our database. A database is a set of collections, while a collection is a set of documents. Here we will call our database \"testdb\", and we will have two collections: 'col1' and 'col2':"
   ]
  },
  {
   "cell_type": "code",
   "execution_count": 9,
   "metadata": {},
   "outputs": [],
   "source": [
    "# Get a database object\n",
    "mydb = client['testdb']\n",
    "\n",
    "# Get first collection\n",
    "mycol1 = mydb['col1']\n",
    "\n",
    "# Get second collection\n",
    "mycol2 = mydb['col2']\n"
   ]
  },
  {
   "cell_type": "markdown",
   "metadata": {},
   "source": [
    "### 2.3 Creating and Inserting Documents\n",
    "\n",
    "Documents in MongoDB are generally stored as JSON objects, allowing us to search for documents using the fields. MongoDB enforces a 16MB limit on document lengths, so for the most part it is not possible to store images. You can however store images as files and put the pathnames to the files in a MongoDB document.\n",
    "\n",
    "At any rate we create three documents, and insert two of them into collection col1, and one in collection col2."
   ]
  },
  {
   "cell_type": "code",
   "execution_count": 11,
   "metadata": {},
   "outputs": [
    {
     "name": "stdout",
     "output_type": "stream",
     "text": [
      "Result of last insert:  <pymongo.results.InsertOneResult object at 0x10b109240>\n"
     ]
    }
   ],
   "source": [
    "test_doc = {\"author\":\"Gal Gadot\", \"title\":\"Being Wonderwoman\"}\n",
    "test_doc_2 = {\"author\":\"Victor Hugo\", \"title\":\"Les Miserables\"}\n",
    "test_doc_3 = {\"author\":\"Jean Valjean\", \n",
    "              \"title\":\"Javert: What's His Problem?\"}\n",
    "\n",
    "# Insert first two documents into mycol1, which is the variable\n",
    "# that we use to access the \"col1\" collection\n",
    "\n",
    "result = mycol1.insert_one(test_doc)\n",
    "result = mycol1.insert_one(test_doc_2)\n",
    "\n",
    "# Insert the third document into mycol2\n",
    "result = mycol2.insert_one(test_doc_3)\n",
    "\n",
    "# We can print the results\n",
    "print(\"Result of last insert: \", result)\n",
    "\n",
    "\n"
   ]
  },
  {
   "cell_type": "markdown",
   "metadata": {},
   "source": [
    "We can also call \"insert_many\" to insert many documents at one time.  To help in debugging we can catch the BulkWriteError exception:"
   ]
  },
  {
   "cell_type": "code",
   "execution_count": 12,
   "metadata": {},
   "outputs": [],
   "source": [
    "test_doc_4 = {\"title\":\"Sleep is good\", \"SaleCount\":4}\n",
    "test_doc_5 = {\"Chapter\":4, \"ChapterTitle\":\"Reflections, reflections\"}\n",
    "# Can also call insert_many. \n",
    "try:\n",
    "    result = mycol2.insert_many([test_doc_4, test_doc_5])\n",
    "except BulkWriteError as bwe:\n",
    "    # This is how we debug\n",
    "    print(bwe.details)\n"
   ]
  },
  {
   "cell_type": "markdown",
   "metadata": {},
   "source": [
    "### 2.4 Querying the Database\n",
    "\n",
    "Now let's look at how we can query the database. We can use \"count_documents\" to see if a record exists. If count_documents returns a 0 then the record does not exist:"
   ]
  },
  {
   "cell_type": "code",
   "execution_count": 13,
   "metadata": {},
   "outputs": [
    {
     "name": "stdout",
     "output_type": "stream",
     "text": [
      "Victor Hugo only wrote 3 book(s). The bum!\n"
     ]
    }
   ],
   "source": [
    "num = mycol1.count_documents({ictor Hugo\"\"author\":\"V})\n",
    "if num == 0:\n",
    "    print(\"Victor Hugo did not write any books! The bum!\")\n",
    "else:\n",
    "    print(\"Victor Hugo only wrote %d book(s). The bum!\" % num)\n"
   ]
  },
  {
   "cell_type": "markdown",
   "metadata": {},
   "source": [
    "To search the collection we can use the \"find\" function:"
   ]
  },
  {
   "cell_type": "code",
   "execution_count": 14,
   "metadata": {},
   "outputs": [
    {
     "name": "stdout",
     "output_type": "stream",
     "text": [
      "All collections: ['col2', 'col1', 'user']\n",
      "Result of Gal Gadot Query:\n",
      "{'_id': ObjectId('60f0d822afe96feaa04a0043'), 'author': 'Gal Gadot', 'title': 'Being Wonderwoman'}\n",
      "{'_id': ObjectId('60f0f01cafe96feaa04a0049'), 'author': 'Gal Gadot', 'title': 'Being Wonderwoman'}\n",
      "{'_id': ObjectId('60f0f02eafe96feaa04a004c'), 'author': 'Gal Gadot', 'title': 'Being Wonderwoman'}\n",
      "Search for Valjean: {'_id': ObjectId('60f0d822afe96feaa04a0045'), 'author': 'Jean Valjean', 'title': \"Javert: What's His Problem?\"}\n"
     ]
    }
   ],
   "source": [
    "print(\"All collections:\", mydb.list_collection_names())\n",
    "\n",
    "# Search for all works by Gal Gadot:\n",
    "results = mycol1.find({\"author\":\"Gal Gadot\"})\n",
    "\n",
    "print(\"Result of Gal Gadot Query:\")\n",
    "\n",
    "for result in results:\n",
    "    print(result)\n",
    "    \n",
    "# Alternatively we can search for one record:\n",
    "result = mycol2.find_one({\"author\":\"Jean Valjean\"})\n",
    "print(\"Search for Valjean:\", result)    \n"
   ]
  },
  {
   "cell_type": "markdown",
   "metadata": {},
   "source": [
    "We can of course do better in printing our records:\n"
   ]
  },
  {
   "cell_type": "code",
   "execution_count": 15,
   "metadata": {},
   "outputs": [
    {
     "name": "stdout",
     "output_type": "stream",
     "text": [
      "Author= Jean Valjean, Title= Javert: What's His Problem?\n"
     ]
    }
   ],
   "source": [
    "print(\"Author= %s, Title= %s\" % (result['author'], result['title']))"
   ]
  },
  {
   "cell_type": "markdown",
   "metadata": {},
   "source": [
    "### 2.5 Updating Records\n",
    "\n",
    "In addition to creating and searching for records, we also want to update records, and for this we use the \"$set\" operator and the \"update_one\" operation. The \"update_one\" operation updates the first record matching the query that we provide.\n",
    "\n",
    "Here we change the author \"Gal Gadot\" to \"Diana Prince\". For a full view of how to do this, we first use count_documents to ensure that the record exists,  and then update it.\n",
    "\n",
    "(Here we use update_one to update one record. You can also use update_many to bulk update all records that match the query)\n",
    "\n",
    "---\n",
    "\n",
    "Note: You can also use \"find_one\" and check whether the return result is None. You cannot use \"find\" as it always returns a Cursor object even if no record exists, and there's no convenient way of measuring the number of items in the Cursor\n",
    "\n",
    "---\n",
    "\n"
   ]
  },
  {
   "cell_type": "code",
   "execution_count": 16,
   "metadata": {},
   "outputs": [
    {
     "name": "stdout",
     "output_type": "stream",
     "text": [
      "Result of searching for Diana Prince:  {'_id': ObjectId('60f0d822afe96feaa04a0043'), 'author': 'Diana Prince', 'title': 'Being Wonderwoman'}\n"
     ]
    }
   ],
   "source": [
    "query = {\"author\":\"Gal Gadot\"}\n",
    "\n",
    "# Check that the author Gal Gadot exists\n",
    "if mycol1.count_documents(query) > 0:\n",
    "    mycol1.update_one(query, {\"$set\":{\"author\":\"Diana Prince\"}})\n",
    "    \n",
    "    result = mycol1.find_one({\"author\":\"Diana Prince\"})\n",
    "    print(\"Result of searching for Diana Prince: \", result)\n",
    "    \n",
    "else:\n",
    "    print(\"Author does not exist\")\n",
    "        \n"
   ]
  },
  {
   "cell_type": "markdown",
   "metadata": {},
   "source": [
    "### 2.6 Delete Records and Collections\n",
    "\n",
    "Finally we can also delete records and collections. We use \"delete_one' to delete the first record that matches the query, and \"delete_many\" to delete all records that match the query.\n",
    "\n",
    "We cal also use .drop() to delete the entire collection (!!). "
   ]
  },
  {
   "cell_type": "code",
   "execution_count": 17,
   "metadata": {},
   "outputs": [
    {
     "name": "stdout",
     "output_type": "stream",
     "text": [
      "\n",
      "Deleted all Valjean\n",
      "\n",
      "Dropping collections\n"
     ]
    }
   ],
   "source": [
    "\n",
    "# We can delete records\n",
    "query = {\"author\":\"Jean Valjean\"}\n",
    "mycol2.delete_one(query)\n",
    "\n",
    "print(\"\\nDeleted all Valjean\")\n",
    "for result in mycol1.find(query):\n",
    "    print(result)\n",
    "    \n",
    "print(\"\\nDropping collections\")\n",
    "mycol1.drop()\n",
    "mycol2.drop()\n",
    "\n",
    "results = mycol1.find({\"author\":\"Diana Prince\"})\n",
    "\n",
    "for result in results:\n",
    "    print(result)"
   ]
  },
  {
   "cell_type": "code",
   "execution_count": null,
   "metadata": {},
   "outputs": [],
   "source": []
  }
 ],
 "metadata": {
  "kernelspec": {
   "display_name": "Python 3",
   "language": "python",
   "name": "python3"
  },
  "language_info": {
   "codemirror_mode": {
    "name": "ipython",
    "version": 3
   },
   "file_extension": ".py",
   "mimetype": "text/x-python",
   "name": "python",
   "nbconvert_exporter": "python",
   "pygments_lexer": "ipython3",
   "version": "3.9.4"
  }
 },
 "nbformat": 4,
 "nbformat_minor": 4
}
